{
 "cells": [
  {
   "cell_type": "markdown",
   "metadata": {
    "collapsed": true
   },
   "source": [
    "# Transformations, Eigenvectors, and Eigenvalues\n",
    "\n",
    "Matrices and vectors are used together to manipulate spatial dimensions. This has a lot of applications, including the mathematical generation of 3D computer graphics, geometric modeling, and the training and optimization of machine learning algorithms. We're not going to cover the subject exhaustively here; but we'll focus on a few key concepts that are useful to know when you plan to work with machine learning.\n",
    "\n",
    "## Linear Transformations\n",
    "You can manipulate a vector by multiplying it with a matrix. The matrix acts a function that operates on an input vector to produce a vector output. Specifically, matrix multiplications of vectors are *linear transformations* that transform the input vector into the output vector.\n",
    "\n",
    "For example, consider this matrix ***A*** and vector ***v***:\n",
    "\n",
    "$$ A = \\begin{bmatrix}2 & 3\\\\5 & 2\\end{bmatrix} \\;\\;\\;\\; \\vec{v} = \\begin{bmatrix}1\\\\2\\end{bmatrix}$$\n",
    "\n",
    "We can define a transformation ***T*** like this:\n",
    "\n",
    "$$ T(\\vec{v}) = A\\vec{v} $$\n",
    "\n",
    "To perform this transformation, we simply calculate the dot product by applying the *RC* rule; multiplying each row of the matrix by the single column of the vector:\n",
    "\n",
    "$$\\begin{bmatrix}2 & 3\\\\5 & 2\\end{bmatrix} \\cdot  \\begin{bmatrix}1\\\\2\\end{bmatrix} = \\begin{bmatrix}8\\\\9\\end{bmatrix}$$\n",
    "\n",
    "Here's the calculation in R:"
   ]
  },
  {
   "cell_type": "code",
   "execution_count": null,
   "metadata": {},
   "outputs": [],
   "source": [
    "v = c(1,2)\n",
    "v\n",
    "A = matrix(c(2,5,3,2), ncol = 2, nrow = 2)\n",
    "A\n",
    "A %*% v"
   ]
  },
  {
   "cell_type": "markdown",
   "metadata": {},
   "source": [
    "In this case, both the input vector and the output vector have 2 components - in other words, the transformation takes a 2-dimensional vector and produces a new 2-dimensional vector; which we can indicate like this:\n",
    "\n",
    "$$ T: \\rm I\\!R^{2} \\to \\rm I\\!R^{2} $$\n",
    "\n",
    "Note that the output vector may have a different number of dimensions from the input vector; so the matrix function might transform the vector from one space to another - or in notation, ${\\rm I\\!R}$<sup>n</sup> -> ${\\rm I\\!R}$<sup>m</sup>.\n",
    "\n",
    "For example, let's redefine matrix ***A***, while retaining our original definition of vector ***v***:\n",
    "\n",
    "$$ A = \\begin{bmatrix}2 & 3\\\\5 & 2\\\\1 & 1\\end{bmatrix} \\;\\;\\;\\; \\vec{v} = \\begin{bmatrix}1\\\\2\\end{bmatrix}$$\n",
    "\n",
    "Now if we once again define ***T*** like this:\n",
    "\n",
    "$$ T(\\vec{v}) = A\\vec{v} $$\n",
    "\n",
    "We apply the transformation like this:\n",
    "\n",
    "$$\\begin{bmatrix}2 & 3\\\\5 & 2\\\\1 & 1\\end{bmatrix} \\cdot  \\begin{bmatrix}1\\\\2\\end{bmatrix} = \\begin{bmatrix}8\\\\9\\\\3\\end{bmatrix}$$\n",
    "\n",
    "So now, our transformation transforms the vector from 2-dimensional space to 3-dimensional space:\n",
    "\n",
    "$$ T: \\rm I\\!R^{2} \\to \\rm I\\!R^{3} $$\n",
    "\n",
    "Here it is in R:"
   ]
  },
  {
   "cell_type": "code",
   "execution_count": null,
   "metadata": {},
   "outputs": [],
   "source": [
    "A = matrix(c(2,5,1,3,2,1), nrow = 3, ncol = 2)\n",
    "A\n",
    "A %*% v"
   ]
  },
  {
   "cell_type": "markdown",
   "metadata": {},
   "source": [
    "## Transformations of Magnitude and Amplitude\n",
    "\n",
    "When you multiply a vector by a matrix, you transform it in at least one of the following two ways:\n",
    "* Scale the length (*magnitude*) of the matrix to make it longer or shorter\n",
    "* Change the direction (*amplitude*) of the matrix\n",
    "\n",
    "For example consider the following matrix and vector:\n",
    "\n",
    "$$ A = \\begin{bmatrix}2 & 0\\\\0 & 2\\end{bmatrix} \\;\\;\\;\\; \\vec{v} = \\begin{bmatrix}1\\\\0\\end{bmatrix}$$\n",
    "\n",
    "As before, we transform the vector ***v*** by multiplying it with the matrix ***A***:\n",
    "\n",
    "\\begin{equation}\\begin{bmatrix}2 & 0\\\\0 & 2\\end{bmatrix} \\cdot  \\begin{bmatrix}1\\\\0\\end{bmatrix} = \\begin{bmatrix}2\\\\0\\end{bmatrix}\\end{equation}\n",
    "\n",
    "In this case, the resulting vector has changed in length (*magnitude*), but has not changed its direction (*amplitude*).\n",
    "\n",
    "Let's visualize that in R:"
   ]
  },
  {
   "cell_type": "code",
   "execution_count": null,
   "metadata": {},
   "outputs": [],
   "source": [
    "library(ggplot2)\n",
    "library(repr)\n",
    "options(repr.plot.width=3.5, repr.plot.height=3) # Set the initial plot area dimensions\n",
    "\n",
    "v = c(1,0)\n",
    "v\n",
    "\n",
    "A = matrix(c(2,0,0,2), ncol = 2, nrow = 2)\n",
    "A\n",
    "t = A %*% v\n",
    "t\n",
    "\n",
    "## Create a data frame with v and t\n",
    "v = data.frame(x=c(0,v[1]), y=c(0,v[2]))\n",
    "t = data.frame(x=c(0,t[1]), y=c(0,t[2]))\n",
    "\n",
    "\n",
    "## Plot the vector\n",
    "ggplot() + \n",
    "      geom_line(data = v, aes(x,y), arrow = arrow(length=unit(0.30,\"cm\")), color = 'red', size = 1) + \n",
    "      geom_line(data = t, aes(x,y), arrow = arrow(length=unit(0.30,\"cm\")), size = 0.5) +\n",
    "      xlim(-5,5) + ylim(-5,5)"
   ]
  },
  {
   "cell_type": "markdown",
   "metadata": {},
   "source": [
    "The original vector ***v*** is shown in orange, and the transformed vector ***t*** is shown in blue - note that ***t*** has the same direction (*amplitude*) as ***v*** but a greater length (*magnitude*).\n",
    "\n",
    "Now let's use a different matrix to transform the vector ***v***:\n",
    "\\begin{equation}\\begin{bmatrix}0 & -1\\\\1 & 0\\end{bmatrix} \\cdot  \\begin{bmatrix}1\\\\0\\end{bmatrix} = \\begin{bmatrix}0\\\\1\\end{bmatrix}\\end{equation}\n",
    "\n",
    "This time, the resulting vector has been changed to a different amplitude, but has the same magnitude."
   ]
  },
  {
   "cell_type": "code",
   "execution_count": null,
   "metadata": {},
   "outputs": [],
   "source": [
    "v = c(1,0)\n",
    "v\n",
    "\n",
    "A = matrix(c(0,1,-1,0), ncol = 2, nrow = 2)\n",
    "A\n",
    "t = A %*% v\n",
    "t\n",
    "\n",
    "## Create a data frame with v and t\n",
    "v = data.frame(x=c(0,v[1]), y=c(0,v[2]))\n",
    "t = data.frame(x=c(0,t[1]), y=c(0,t[2]))\n",
    "\n",
    "\n",
    "## Plot the vector\n",
    "ggplot() + \n",
    "      geom_line(data = v, aes(x,y), arrow = arrow(length=unit(0.30,\"cm\")), color = 'orange', size = 1) + \n",
    "      geom_line(data = t, aes(x,y), arrow = arrow(length=unit(0.30,\"cm\")), color = 'blue', size = 1) +\n",
    "      xlim(-5,5) + ylim(-5,5)"
   ]
  },
  {
   "cell_type": "markdown",
   "metadata": {},
   "source": [
    "Now let's see change the matrix one more time:\n",
    "\\begin{equation}\\begin{bmatrix}2 & 1\\\\1 & 2\\end{bmatrix} \\cdot  \\begin{bmatrix}1\\\\0\\end{bmatrix} = \\begin{bmatrix}2\\\\1\\end{bmatrix}\\end{equation}\n",
    "\n",
    "Now our resulting vector has been transformed to a new amplitude *and* magnitude - the transformation has affected both direction and scale."
   ]
  },
  {
   "cell_type": "code",
   "execution_count": null,
   "metadata": {},
   "outputs": [],
   "source": [
    "v = c(1,0)\n",
    "v\n",
    "\n",
    "A = matrix(c(2,1,1,2), ncol = 2, nrow = 2)\n",
    "A\n",
    "t = A %*% v\n",
    "t\n",
    "\n",
    "## Create a data frame with v and t\n",
    "v = data.frame(x=c(0,v[1]), y=c(0,v[2]))\n",
    "t = data.frame(x=c(0,t[1]), y=c(0,t[2]))\n",
    "\n",
    "\n",
    "## Plot the vector\n",
    "ggplot() + \n",
    "      geom_line(data = v, aes(x,y), arrow = arrow(length=unit(0.30,\"cm\")), color = 'orange', size = 1) + \n",
    "      geom_line(data = t, aes(x,y), arrow = arrow(length=unit(0.30,\"cm\")), color = 'blue', size = 1) +\n",
    "      xlim(-5,5) + ylim(-5,5)"
   ]
  },
  {
   "cell_type": "markdown",
   "metadata": {},
   "source": [
    "### Afine Transformations\n",
    "An Afine transformation multiplies a vector by a matrix and adds an offset vector, sometimes referred to as *bias*; like this:\n",
    "\n",
    "$$T(\\vec{v}) = A\\vec{v} + \\vec{b}$$\n",
    "\n",
    "For example:\n",
    "\n",
    "\\begin{equation}\\begin{bmatrix}5 & 2\\\\3 & 1\\end{bmatrix} \\cdot  \\begin{bmatrix}1\\\\1\\end{bmatrix} + \\begin{bmatrix}-2\\\\-6\\end{bmatrix} = \\begin{bmatrix}-1.5\\\\2.5\\end{bmatrix}\\end{equation}\n",
    "\n",
    "This kind of transformation is actually the basis of linear regression, which is a core foundation for machine learning. The matrix defines the *features*, the first vector is the *coefficients*, and the bias vector is the *intercept*.\n",
    "\n",
    "here's an example of an Afine transformation in R:"
   ]
  },
  {
   "cell_type": "code",
   "execution_count": null,
   "metadata": {},
   "outputs": [],
   "source": [
    "v = c(1,0)\n",
    "v\n",
    "\n",
    "A = matrix(c(5,3,2,1), ncol = 2, nrow = 2)\n",
    "A\n",
    "b = c(-2,-6)\n",
    "b \n",
    "t = A %*% v + b\n",
    "t\n",
    "\n",
    "## Create a data frame with v and t\n",
    "v = data.frame(x=c(0,v[1]), y=c(0,v[2]))\n",
    "t = data.frame(x=c(0,t[1]), y=c(0,t[2]))\n",
    "\n",
    "\n",
    "## Plot the vector\n",
    "ggplot() + \n",
    "      geom_line(data = v, aes(x,y), arrow = arrow(length=unit(0.30,\"cm\")), color = 'orange', size = 1) + \n",
    "      geom_line(data = t, aes(x,y), arrow = arrow(length=unit(0.30,\"cm\")), color = 'blue', size = 1) +\n",
    "      xlim(-5,5) + ylim(-5,5)"
   ]
  },
  {
   "cell_type": "markdown",
   "metadata": {},
   "source": [
    "## Eigenvectors and Eigenvalues\n",
    "So we can see that when you transform a vector using a matrix, we change its direction, length, or both. When the transformation only affects scale (in other words, the output vector has a different magnitude but the same amplitude as the input vector), the matrix multiplication for the transformation is the equivalent operation as some scalar multiplication of the vector.\n",
    "\n",
    "For example, earlier we examined the following transformation that dot-mulitplies a vector by a matrix:\n",
    "\n",
    "$$\\begin{bmatrix}2 & 0\\\\0 & 2\\end{bmatrix} \\cdot  \\begin{bmatrix}1\\\\0\\end{bmatrix} = \\begin{bmatrix}2\\\\0\\end{bmatrix}$$\n",
    "\n",
    "You can achieve the same result by mulitplying the vector by the scalar value ***2***:\n",
    "\n",
    "$$2 \\times \\begin{bmatrix}1\\\\0\\end{bmatrix} = \\begin{bmatrix}2\\\\0\\end{bmatrix}$$\n",
    "\n",
    "The following R code performs both of these calculation and shows the results, which are identical."
   ]
  },
  {
   "cell_type": "code",
   "execution_count": null,
   "metadata": {},
   "outputs": [],
   "source": [
    "v = c(1,0)\n",
    "v\n",
    "\n",
    "A = matrix(c(2,0,0,2), ncol = 2, nrow = 2)\n",
    "A\n",
    "\n",
    "t1 = A %*% v\n",
    "t1\n",
    "t2 = 2 * v\n",
    "t2\n",
    "\n",
    "## Create a data frame with v, t1, and t2\n",
    "v = data.frame(x=c(0,v[1]), y=c(0,v[2]))\n",
    "t1 = data.frame(x=c(0,t1[1]), y=c(0,t1[2]))\n",
    "t2 = data.frame(x=c(0,t2[1]), y=c(0,t2[2]))\n",
    "\n",
    "\n",
    "## Plot t1\n",
    "ggplot() + \n",
    "      geom_line(data = v, aes(x,y), arrow = arrow(length=unit(0.30,\"cm\")), color = 'orange', size = 1) + \n",
    "      geom_line(data = t1, aes(x,y), arrow = arrow(length=unit(0.30,\"cm\")), color = 'blue') +\n",
    "      xlim(-5,5) + ylim(-5,5)\n",
    "\n",
    "## Plot t2\n",
    "ggplot() + \n",
    "      geom_line(data = v, aes(x,y), arrow = arrow(length=unit(0.30,\"cm\")), color = 'orange', size = 1) + \n",
    "      geom_line(data = t2, aes(x,y), arrow = arrow(length=unit(0.30,\"cm\")), color = 'blue') +\n",
    "      xlim(-5,5) + ylim(-5,5)"
   ]
  },
  {
   "cell_type": "markdown",
   "metadata": {},
   "source": [
    "In cases like these, where a matrix transformation is the equivalent of a scalar-vector multiplication, the scalar-vector pairs that correspond to the matrix are known respectively as eigenvalues and eigenvectors. We generally indicate eigenvalues using the Greek letter lambda (&lambda;), and the formula that defines eigenvalues and eigenvectors with respect to a transformation is:\n",
    "\n",
    "$$ T(\\vec{v}) = \\lambda\\vec{v}$$\n",
    "\n",
    "Where the vector ***v*** is an eigenvector and the value ***&lambda;*** is an eigenvalue for transformation ***T***.\n",
    "\n",
    "When the transformation ***T*** is represented as a matrix multiplication, as in this case where the transformation is represented by matrix ***A***:\n",
    "\n",
    "$$ T(\\vec{v}) = A\\vec{v} = \\lambda\\vec{v}$$\n",
    "\n",
    "Then  ***v*** is an eigenvector and ***&lambda;*** is an eigenvalue of ***A***.\n",
    "\n",
    "A matrix can have multiple eigenvector-eigenvalue pairs, and you can calculate them manually. However, it's generally easier to use a tool or programming language. For example, in R the **eigen** function returns a list with the eigenvalues and eigenvalues of a square matrix.\n",
    "\n",
    "Here's an example that returns the eigenvalue and eigenvector pairs for the following matrix:\n",
    "\n",
    "$$A=\\begin{bmatrix}2 & 0\\\\0 & 3\\end{bmatrix}$$"
   ]
  },
  {
   "cell_type": "code",
   "execution_count": null,
   "metadata": {},
   "outputs": [],
   "source": [
    "A = matrix(c(2,0,0,3), ncol = 2, nrow = 2)\n",
    "A\n",
    "\n",
    "eigens = eigen(A)\n",
    "eigens$val\n",
    "eigens$vec"
   ]
  },
  {
   "cell_type": "markdown",
   "metadata": {},
   "source": [
    "So there are two eigenvalue-eigenvector pairs for this matrix, as shown here:\n",
    "\n",
    "$$\\lambda_{1} = 3, \\vec{v_{1}} = \\begin{bmatrix}0 \\\\ 1\\end{bmatrix}   \\;\\;\\;\\;\\;\\;  \\lambda_{2} = 2, \\vec{v_{2}} = \\begin{bmatrix}-1 \\\\ 0\\end{bmatrix}$$\n",
    "\n",
    "Let's verify that multiplying each eigenvalue-eigenvector pair corresponds to the dot-product of the eigenvector and the matrix. Here's the first pair:\n",
    "\n",
    "$$ 3 \\times \\begin{bmatrix}0 \\\\ 1\\end{bmatrix} = \\begin{bmatrix}0 \\\\ 3\\end{bmatrix}  \\;\\;\\;and\\;\\;\\; \\begin{bmatrix}2 & 0\\\\0 & 3\\end{bmatrix} \\cdot \\begin{bmatrix}0 \\\\ 1\\end{bmatrix} = \\begin{bmatrix}0 \\\\ 3\\end{bmatrix} $$\n",
    "\n",
    "So far so good. Now let's check the second pair:\n",
    "\n",
    "$$ 2 \\times \\begin{bmatrix}-1 \\\\ 0\\end{bmatrix} = \\begin{bmatrix}-2 \\\\ 0\\end{bmatrix}  \\;\\;\\;and\\;\\;\\; \\begin{bmatrix}2 & 0\\\\0 & 3\\end{bmatrix} \\cdot \\begin{bmatrix}-1 \\\\ 0\\end{bmatrix} = \\begin{bmatrix}-2 \\\\ 0\\end{bmatrix} $$\n",
    "\n",
    "So our eigenvalue-eigenvector scalar multiplications do indeed correspond to our matrix-eigenvector dot-product transformations.\n",
    "\n",
    "Here's the equivalent code in R using the previous results:"
   ]
  },
  {
   "cell_type": "code",
   "execution_count": null,
   "metadata": {},
   "outputs": [],
   "source": [
    "cat('Matrix A \\n')\n",
    "A\n",
    "cat('---------- \\n')\n",
    "cat(paste('First eigenvalue = ', as.character(eigens$val[1]), '\\n'))\n",
    "cat('First eigenvector:')\n",
    "eigens$vec[,1]\n",
    "cat(paste('Second eigenvalue = ', as.character(eigens$val[2]), '\\n'))\n",
    "cat('Second eigenvector:')\n",
    "eigens$vec[,2]\n",
    "cat('first eigenvalue * eigenvetor \\n')\n",
    "v1 = eigens$val[1] * eigens$vec[,1]\n",
    "v1\n",
    "cat('matrix %*% first eigenvalue')\n",
    "A %*% eigens$vec[,1]\n",
    "cat('second eigenvalue * eigenvetor \\n')\n",
    "v2 = eigens$val[2] * eigens$vec[,2]\n",
    "v2\n",
    "cat('matrix %*% second eigenvalue')\n",
    "A %*% eigens$vec[,2]"
   ]
  },
  {
   "cell_type": "markdown",
   "metadata": {},
   "source": [
    "You can use the following code to visualize these transformations:"
   ]
  },
  {
   "cell_type": "code",
   "execution_count": null,
   "metadata": {},
   "outputs": [],
   "source": [
    "## Data frames for the first eigen vector plot\n",
    "w1 = data.frame(x = c(0,eigens$vec[1,1]), y = c(0,eigens$vec[2,1]))\n",
    "v1 = data.frame(x = c(0,v1[1]), y = c(0,v1[2]))\n",
    "\n",
    "## Plot the multplications with first vector\n",
    "ggplot() + \n",
    "      geom_line(data = w1, aes(x,y), arrow = arrow(length=unit(0.30,\"cm\")), color = 'red', size = 1) + \n",
    "      geom_line(data = v1, aes(x,y), arrow = arrow(length=unit(0.30,\"cm\")), size = 0.5) +\n",
    "      xlim(-5,5) + ylim(-5,5)\n",
    "\n",
    "## Data frames for the second eigen vector plot\n",
    "w2 = data.frame(x = c(0,eigens$vec[1,2]), y = c(0,eigens$vec[2,2]))\n",
    "v2 = data.frame(x = c(0,v2[1]), y = c(0,v2[2]))\n",
    "\n",
    "## Plot the multplications with first vector\n",
    "ggplot() + \n",
    "      geom_line(data = w2, aes(x,y), arrow = arrow(length=unit(0.30,\"cm\"), ends = \"first\"), color = 'red', size = 1) + \n",
    "      geom_line(data = v2, aes(x,y), arrow = arrow(length=unit(0.30,\"cm\"), ends = \"first\"), size = 0.5) +\n",
    "      xlim(-5,5) + ylim(-5,5)"
   ]
  },
  {
   "cell_type": "markdown",
   "metadata": {},
   "source": [
    "Similarly, earlier we examined the following matrix transformation:\n",
    "\n",
    "$$\\begin{bmatrix}2 & 0\\\\0 & 2\\end{bmatrix} \\cdot  \\begin{bmatrix}-1\\\\0\\end{bmatrix} = \\begin{bmatrix}-2\\\\0\\end{bmatrix}$$\n",
    "\n",
    "And we saw that you can achieve the same result by mulitplying the vector by the scalar value ***2***:\n",
    "\n",
    "$$2 \\times \\begin{bmatrix}-1\\\\0\\end{bmatrix} = \\begin{bmatrix}-2\\\\0\\end{bmatrix}$$\n",
    "\n",
    "This works because the scalar value 2 and the vector (1,0) are an eigenvalue-eigenvector pair for this matrix.\n",
    "\n",
    "Let's use R to determine the eigenvalue-eigenvector pairs for this matrix:"
   ]
  },
  {
   "cell_type": "code",
   "execution_count": null,
   "metadata": {},
   "outputs": [],
   "source": [
    "A = matrix(c(2,0,0,2), nrow = 2, ncol = 2)\n",
    "A\n",
    "\n",
    "eigens = eigen(A)\n",
    "eigens$val\n",
    "eigens$vec"
   ]
  },
  {
   "cell_type": "markdown",
   "metadata": {},
   "source": [
    "So once again, there are two eigenvalue-eigenvector pairs for this matrix, as shown here:\n",
    "\n",
    "$$\\lambda_{1} = 2, \\vec{v_{1}} = \\begin{bmatrix}0 \\\\ 1\\end{bmatrix}   \\;\\;\\;\\;\\;\\;   \\lambda_{2} = 2, \\vec{v_{2}} = \\begin{bmatrix}-1 \\\\ 0\\end{bmatrix}$$\n",
    "\n",
    "Let's verify that multiplying each eigenvalue-eigenvector pair corresponds to the dot-product of the eigenvector and the matrix. Here's the first pair:\n",
    "\n",
    "$$ 2 \\times \\begin{bmatrix}0 \\\\ 1\\end{bmatrix} = \\begin{bmatrix}0 \\\\ 2\\end{bmatrix}  \\;\\;\\;and\\;\\;\\; \\begin{bmatrix}2 & 0\\\\0 & 2\\end{bmatrix} \\cdot \\begin{bmatrix}0 \\\\ 1\\end{bmatrix} = \\begin{bmatrix}0 \\\\ 2\\end{bmatrix} $$\n",
    "\n",
    "Well, we already knew that. Now let's check the second pair:\n",
    "\n",
    "$$ 2 \\times \\begin{bmatrix}-1 \\\\ 0\\end{bmatrix} = \\begin{bmatrix}-2 \\\\ 0\\end{bmatrix}  \\;\\;\\;and\\;\\;\\; \\begin{bmatrix}2 & 0\\\\0 & 2\\end{bmatrix} \\cdot \\begin{bmatrix}-1 \\\\ 0\\end{bmatrix} = \\begin{bmatrix}-2 \\\\ 0\\end{bmatrix} $$\n",
    "\n",
    "\n",
    "Now let's use R to verify and plot these transformations:"
   ]
  },
  {
   "cell_type": "code",
   "execution_count": null,
   "metadata": {},
   "outputs": [],
   "source": [
    "cat('Matrix A \\n')\n",
    "A\n",
    "cat('---------- \\n')\n",
    "cat(paste('First eigenvalue = ', as.character(eigens$val[1]), '\\n'))\n",
    "cat('First eigenvector:')\n",
    "eigens$vec[,1]\n",
    "cat(paste('Second eigenvalue = ', as.character(eigens$val[2]), '\\n'))\n",
    "cat('Second eigenvector:')\n",
    "eigens$vec[,2]\n",
    "cat('first eigenvalue * eigenvetor \\n')\n",
    "v1 = eigens$val[1] * eigens$vec[,1]\n",
    "v1\n",
    "cat('matrix %*% first eigenvalue')\n",
    "A %*% eigens$vec[,1]\n",
    "cat('second eigenvalue * eigenvetor \\n')\n",
    "v2 = eigens$val[2] * eigens$vec[,2]\n",
    "v2\n",
    "cat('matrix %*% second eigenvalue')\n",
    "A %*% eigens$vec[,2]\n",
    "\n",
    "## Data frames for the first eigen vector plot\n",
    "w1 = data.frame(x = c(0,eigens$vec[1,1]), y = c(0,eigens$vec[2,1]))\n",
    "v1 = data.frame(x = c(0,v1[1]), y = c(0,v1[2]))\n",
    "\n",
    "## Plot the multplications with first vector\n",
    "ggplot() + \n",
    "      geom_line(data = w1, aes(x,y), arrow = arrow(length=unit(0.30,\"cm\")), color = 'red', size = 1) + \n",
    "      geom_line(data = v1, aes(x,y), arrow = arrow(length=unit(0.30,\"cm\")), size = 0.5) +\n",
    "      xlim(-5,5) + ylim(-5,5)\n",
    "\n",
    "## Data frames for the second eigen vector plot\n",
    "w2 = data.frame(x = c(0,eigens$vec[1,2]), y = c(0,eigens$vec[2,2]))\n",
    "v2 = data.frame(x = c(0,v2[1]), y = c(0,v2[2]))\n",
    "\n",
    "## Plot the multplications with first vector\n",
    "ggplot() + \n",
    "      geom_line(data = w2, aes(x,y), arrow = arrow(length=unit(0.30,\"cm\"), ends = \"first\"), color = 'red', size = 1) + \n",
    "      geom_line(data = v2, aes(x,y), arrow = arrow(length=unit(0.30,\"cm\"), ends = \"first\"), size = 0.5) +\n",
    "      xlim(-5,5) + ylim(-5,5)"
   ]
  },
  {
   "cell_type": "markdown",
   "metadata": {},
   "source": [
    "Let's take a look at one more, slightly more complex example. Here's our matrix:\n",
    "\n",
    "$$\\begin{bmatrix}2 & 1\\\\1 & 2\\end{bmatrix}$$\n",
    "\n",
    "Let's get the eigenvalue and eigenvector pairs:"
   ]
  },
  {
   "cell_type": "code",
   "execution_count": null,
   "metadata": {},
   "outputs": [],
   "source": [
    "A = matrix(c(2,1,1,2), nrow = 2, ncol = 2)\n",
    "A\n",
    "\n",
    "eigens = eigen(A)\n",
    "eigens$val\n",
    "eigens$vec"
   ]
  },
  {
   "cell_type": "markdown",
   "metadata": {},
   "source": [
    "This time the eigenvalue-eigenvector pairs are:\n",
    "\n",
    "$$ \\lambda_{1} = 3, \\vec{v_{1}} = \\begin{bmatrix}0.70710678 \\\\ 0.70710678\\end{bmatrix}  \\;\\;\\;\\;\\;\\; \\lambda_{2} = 1, \\vec{v_{2}} = \\begin{bmatrix}-0.70710678 \\\\ 0.70710678\\end{bmatrix} $$\n",
    "\n",
    "So let's check the first pair:\n",
    "\n",
    "$$ 3 \\times \\begin{bmatrix}0.70710678 \\\\ 0.70710678\\end{bmatrix} = \\begin{bmatrix}2.12132034 \\\\ 2.12132034\\end{bmatrix}  \\;\\;\\;and\\;\\;\\; \\begin{bmatrix}2 & 1\\\\0 & 2\\end{bmatrix} \\cdot \\begin{bmatrix}0.70710678 \\\\ 0.70710678\\end{bmatrix} = \\begin{bmatrix}2.12132034 \\\\ 2.12132034\\end{bmatrix} $$\n",
    "\n",
    "Now let's check the second pair:\n",
    "\n",
    "$$ 1 \\times \\begin{bmatrix}-0.70710678 \\\\ 0.70710678\\end{bmatrix} = \\begin{bmatrix}-0.70710678\\\\0.70710678\\end{bmatrix}  \\;\\;\\;and\\;\\;\\; \\begin{bmatrix}2 & 1\\\\1 & 2\\end{bmatrix} \\cdot \\begin{bmatrix}-0.70710678 \\\\ 0.70710678\\end{bmatrix} = \\begin{bmatrix}-0.70710678\\\\0.70710678\\end{bmatrix} $$\n",
    "\n",
    "With more complex examples like this, it's generally easier to use a tool like R:"
   ]
  },
  {
   "cell_type": "code",
   "execution_count": null,
   "metadata": {},
   "outputs": [],
   "source": [
    "cat('Matrix A \\n')\n",
    "A\n",
    "cat('---------- \\n')\n",
    "cat(paste('First eigenvalue = ', as.character(eigens$val[1]), '\\n'))\n",
    "cat('First eigenvector:')\n",
    "eigens$vec[,1]\n",
    "cat(paste('Second eigenvalue = ', as.character(eigens$val[2]), '\\n'))\n",
    "cat('Second eigenvector:')\n",
    "eigens$vec[,2]\n",
    "cat('first eigenvalue * eigenvetor \\n')\n",
    "v1 = eigens$val[1] * eigens$vec[,1]\n",
    "v1\n",
    "cat('matrix %*% first eigenvalue')\n",
    "A %*% eigens$vec[,1]\n",
    "cat('second eigenvalue * eigenvetor \\n')\n",
    "v2 = eigens$val[2] * eigens$vec[,2]\n",
    "v2\n",
    "cat('matrix %*% second eigenvalue')\n",
    "A %*% eigens$vec[,2]\n",
    "\n",
    "## Data frames for the first eigen vector plot\n",
    "w1 = data.frame(x = c(0,eigens$vec[1,1]), y = c(0,eigens$vec[2,1]))\n",
    "v1 = data.frame(x = c(0,v1[1]), y = c(0,v1[2]))\n",
    "\n",
    "## Plot the multplications with first vector\n",
    "ggplot() + \n",
    "      geom_line(data = w1, aes(x,y), arrow = arrow(length=unit(0.30,\"cm\")), color = 'red', size = 1) + \n",
    "      geom_line(data = v1, aes(x,y), arrow = arrow(length=unit(0.30,\"cm\")), size = 0.5) +\n",
    "      xlim(-5,5) + ylim(-5,5)\n",
    "\n",
    "## Data frames for the second eigen vector plot\n",
    "w2 = data.frame(x = c(0,eigens$vec[1,2]), y = c(0,eigens$vec[2,2]))\n",
    "v2 = data.frame(x = c(0,v2[1]), y = c(0,v2[2]))\n",
    "\n",
    "## Plot the multplications with first vector\n",
    "ggplot() + \n",
    "      geom_line(data = w2, aes(x,y), arrow = arrow(length=unit(0.30,\"cm\"), ends = \"first\"), color = 'red', size = 1) + \n",
    "      geom_line(data = v2, aes(x,y), arrow = arrow(length=unit(0.30,\"cm\"), ends = \"first\"), size = 0.5) +\n",
    "      xlim(-5,5) + ylim(-5,5)"
   ]
  },
  {
   "cell_type": "markdown",
   "metadata": {},
   "source": [
    "## Eigendecomposition\n",
    "So we've learned a little about eigenvalues and eigenvectors; but you may be wondering what use they are. Well, one use for them is to help decompose transformation matrices.\n",
    "\n",
    "Recall that previously we found that a matrix transformation of a vector changes its magnitude, amplitude, or both. Without getting too technical about it, we need to remember that vectors can exist in any spatial orientation, or *basis*; and the same transformation can be applied in different *bases*.\n",
    "\n",
    "We can decompose a matrix using the following formula:\n",
    "\n",
    "$$A = Q \\Lambda Q^{-1}$$\n",
    "\n",
    "Where ***A*** is a transformation that can be applied to a vector in its current base, ***Q*** is a matrix of eigenvectors that defines a change of basis, and ***&Lambda;*** is a matrix with eigenvalues on the diagonal that defines the same linear transformation as ***A*** in the base defined by ***Q***.\n",
    "\n",
    "Let's look at these in some more detail. Consider this matrix:\n",
    "\n",
    "$$A=\\begin{bmatrix}3 & 2\\\\1 & 0\\end{bmatrix}$$\n",
    "\n",
    "***Q*** is a matrix in which each column is an eigenvector of ***A***; which as we've seen previously, we can calculate using R:"
   ]
  },
  {
   "cell_type": "code",
   "execution_count": null,
   "metadata": {},
   "outputs": [],
   "source": [
    "A = matrix(c(3,1,2,0), nrow =2, ncol =2)\n",
    "eigens = eigen(A)\n",
    "Q = eigens$vec\n",
    "Q"
   ]
  },
  {
   "cell_type": "markdown",
   "metadata": {},
   "source": [
    "So for matrix ***A***, ***Q*** is the following matrix:\n",
    "\n",
    "$$Q=\\begin{bmatrix}0.96276969 & -0.48963374\\\\0.27032301 & 0.87192821\\end{bmatrix}$$\n",
    "\n",
    "$\\Lambda$ is a matrix that contains the eigenvalues for ***A*** on the diagonal, with zeros in all other elements; so for a 2x2 matrix, &Lambda; will look like this:\n",
    "\n",
    "$$\\Lambda=\\begin{bmatrix}\\lambda_{1} & 0\\\\0 & \\lambda_{2}\\end{bmatrix}$$\n",
    "\n",
    "You have already used the R **eigen** function to compute the eigenvalues of a square matrix. The code below uses the **diag** function to create a diagonal matrix of the eigenvalues of $A$."
   ]
  },
  {
   "cell_type": "code",
   "execution_count": null,
   "metadata": {},
   "outputs": [],
   "source": [
    "L = diag(eigens$val)\n",
    "L"
   ]
  },
  {
   "cell_type": "markdown",
   "metadata": {},
   "source": [
    "So **$\\Lambda$** is the following matrix:\n",
    "\n",
    "$$\\Lambda=\\begin{bmatrix}3.56155281 & 0\\\\0 & -0.56155281\\end{bmatrix}$$\n",
    "\n",
    "Now we just need to find ***Q<sup>-1</sup>***, which is the inverse of ***Q***:"
   ]
  },
  {
   "cell_type": "code",
   "execution_count": null,
   "metadata": {},
   "outputs": [],
   "source": [
    "Qinv = solve(Q)\n",
    "Qinv"
   ]
  },
  {
   "cell_type": "markdown",
   "metadata": {},
   "source": [
    "The inverse of ***Q*** then, is:\n",
    "\n",
    "$$Q^{-1}=\\begin{bmatrix}0.89720673 & 0.50382896\\\\-0.27816009 & 0.99068183\\end{bmatrix}$$\n",
    "\n",
    "So what does that mean? Well, it means that we can decompose the transformation of *any* vector multiplied by matrix ***A*** into the separate operations ***Q&Lambda;Q<sup>-1</sup>***:\n",
    "\n",
    "$$A\\vec{v} = Q \\Lambda Q^{-1}\\vec{v}$$\n",
    "\n",
    "To prove this, let's take vector ***v***:\n",
    "\n",
    "$$\\vec{v} = \\begin{bmatrix}1\\\\3\\end{bmatrix} $$\n",
    "\n",
    "Our matrix transformation using ***A*** is:\n",
    "\n",
    "$$\\begin{bmatrix}3 & 2\\\\1 & 0\\end{bmatrix} \\cdot \\begin{bmatrix}1\\\\3\\end{bmatrix} $$\n",
    "\n",
    "So let's show the results of that using R:"
   ]
  },
  {
   "cell_type": "code",
   "execution_count": null,
   "metadata": {
    "scrolled": true
   },
   "outputs": [],
   "source": [
    "v = c(1,3)\n",
    "v\n",
    "t = A %*% v\n",
    "t\n",
    "\n",
    "## Data frames for the vector plot\n",
    "df_v = data.frame(x = c(0,v[1]), y = c(0,v[2]))\n",
    "df_t = data.frame(x = c(0,t[1]), y = c(0,t[2]))\n",
    "\n",
    "## Plot the vectors\n",
    "ggplot() + \n",
    "      geom_line(data = df_t, aes(x,y), arrow = arrow(length=unit(0.30,\"cm\")), \n",
    "                color = 'blue', size = 1) + \n",
    "      geom_line(data = df_v, aes(x,y), arrow = arrow(length=unit(0.30,\"cm\")), \n",
    "                color = 'orange', size = 1) +\n",
    "      xlim(-10,10) + ylim(-10,10)"
   ]
  },
  {
   "cell_type": "markdown",
   "metadata": {},
   "source": [
    "And now, let's do the same thing using the ***Q&Lambda;Q<sup>-1</sup>*** sequence of operations:"
   ]
  },
  {
   "cell_type": "code",
   "execution_count": null,
   "metadata": {},
   "outputs": [],
   "source": [
    "t = Q %*% L %*% Qinv %*% v\n",
    "t\n",
    "\n",
    "## Data frame for the vector plot\n",
    "df_t = data.frame(x = c(0,t[1]), y = c(0,t[2]))\n",
    "\n",
    "## Plot the vectors\n",
    "ggplot() + \n",
    "      geom_line(data = df_t, aes(x,y), arrow = arrow(length=unit(0.30,\"cm\")), \n",
    "                color = 'blue', size = 1) + \n",
    "      geom_line(data = df_v, aes(x,y), arrow = arrow(length=unit(0.30,\"cm\")), \n",
    "                color = 'orange', size = 1) +\n",
    "      xlim(-10,10) + ylim(-10,10)"
   ]
  },
  {
   "cell_type": "markdown",
   "metadata": {},
   "source": [
    "So ***A*** and ***Q&Lambda;Q<sup>-1</sup>*** are equivalent.\n",
    "\n",
    "If we view the intermediary stages of the decomposed transformation, you can see the transformation using ***A*** in the original base for ***v*** (orange to blue) and the transformation using ***&Lambda;*** in the change of basis described by ***Q*** (red to magenta):"
   ]
  },
  {
   "cell_type": "code",
   "execution_count": null,
   "metadata": {},
   "outputs": [],
   "source": [
    "1## Matrix multiplication for intermediate steps\n",
    "t1 = Qinv %*% v\n",
    "t1\n",
    "t2 = L %*% t1\n",
    "t2\n",
    "t3 = Q %*% t2\n",
    "t3\n",
    "\n",
    "## Data frames for the vector plot\n",
    "df_t1 = data.frame(x = c(0,t1[1]), y = c(0,t1[2]))\n",
    "df_t2 = data.frame(x = c(0,t2[1]), y = c(0,t2[2]))\n",
    "df_t3 = data.frame(x = c(0,t3[1]), y = c(0,t3[2]))\n",
    "\n",
    "## Plot the vectors\n",
    "ggplot() + \n",
    "    geom_line(data = df_v, aes(x,y), arrow = arrow(length=unit(0.30,\"cm\")), \n",
    "                color = 'orange', size = 1) +\n",
    "    geom_line(data = df_t1, aes(x,y), arrow = arrow(length=unit(0.30,\"cm\")), \n",
    "                color = 'red', size = 1) + \n",
    "    geom_line(data = df_t2, aes(x,y), arrow = arrow(length=unit(0.30,\"cm\")), \n",
    "                color = 'magenta', size = 1) + \n",
    "    geom_line(data = df_t3, aes(x,y), arrow = arrow(length=unit(0.30,\"cm\")), \n",
    "                color = 'blue', size = 1) +\n",
    "    xlim(-10,10) + ylim(-10,10)    "
   ]
  },
  {
   "cell_type": "markdown",
   "metadata": {},
   "source": [
    "So from this visualization, it should be apparent that the transformation ***Av*** can be performed by changing the basis for ***v*** using ***Q*** (from orange to red in the above plot) applying the equivalent linear transformation in that base using ***&Lambda;*** (red to magenta), and switching back to the original base using ***Q<sup>-1</sup>*** (magenta to blue)."
   ]
  },
  {
   "cell_type": "markdown",
   "metadata": {},
   "source": [
    "## Rank of a Matrix\n",
    "\n",
    "The **rank** of a square matrix is the number of non-zero eigenvalues of the matrix. A **full rank** matrix has the same number of non-zero eigenvalues as the dimension of the matrix. A **rank-deficient** matrix has fewer non-zero eigenvalues as dimensions. The inverse of a rank deficient matrix is singular and so does not exist (this is why in a previous notebook we noted that some matrices have no inverse).\n",
    "\n",
    "Consider the following matrix ***A***:\n",
    "\n",
    "$$A=\\begin{bmatrix}1 & 2\\\\4 & 3\\end{bmatrix}$$\n",
    "\n",
    "Let's find its eigenvalues (***&Lambda;***):"
   ]
  },
  {
   "cell_type": "code",
   "execution_count": null,
   "metadata": {},
   "outputs": [],
   "source": [
    "A = matrix(c(1,4,2,3), nrow =2, ncol =2)\n",
    "eigens_A = eigen(A)\n",
    "L = diag(eigens_A$val)\n",
    "L"
   ]
  },
  {
   "cell_type": "markdown",
   "metadata": {},
   "source": [
    "$$\\Lambda=\\begin{bmatrix}5 & 0\\\\0 & -1\\end{bmatrix}$$\n",
    "\n",
    "This matrix has full rank. The dimensions of the matrix is 2. There are two non-zero eigenvalues. \n",
    "\n",
    "Now consider this matrix:\n",
    "\n",
    "$$B=\\begin{bmatrix}3 & -3 & 6\\\\2 & -2 & 4\\\\1 & -1 & 2\\end{bmatrix}$$\n",
    "\n",
    "Note that the second and third columns are just scalar multiples of the first column.\n",
    "\n",
    "Let's examine it's eigenvalues:"
   ]
  },
  {
   "cell_type": "code",
   "execution_count": null,
   "metadata": {},
   "outputs": [],
   "source": [
    "B = matrix(c(3,2,1,-3,-2,-1,6,4,2), nrow =3, ncol =3)\n",
    "eigens_B = eigen(B)\n",
    "L = diag(eigens_B$val)\n",
    "L"
   ]
  },
  {
   "cell_type": "markdown",
   "metadata": {},
   "source": [
    "Within a small numerical error, these eigenvalues are:\n",
    "\n",
    "$$\\Lambda=\\begin{bmatrix}3 & 0& 0\\\\0 & 0 & 0\\\\0 & 0 & 0\\end{bmatrix}$$\n",
    "\n",
    "Note that matrix has only 1 non-zero eigenvalue. The other two eigenvalues are so extremely small as to be effectively zero. This is an example of a rank-deficient matrix; and as such, it has no inverse."
   ]
  },
  {
   "cell_type": "markdown",
   "metadata": {},
   "source": [
    "## Inverse of a Square Full Rank Matrix\n",
    "You can calculate the inverse of a square full rank matrix by using the following formula:\n",
    "\n",
    "$$A^{-1} = Q \\Lambda^{-1} Q^{-1}$$\n",
    "\n",
    "Let's apply this to matrix ***A***:\n",
    "\n",
    "$$A=\\begin{bmatrix}1 & 2\\\\4 & 3\\end{bmatrix}$$\n",
    "\n",
    "You have already performed the eigen decomposition of A. Next, find the matrices for ***Q***, ***&Lambda;<sup>-1</sup>***, and ***Q<sup>-1</sup>***:"
   ]
  },
  {
   "cell_type": "code",
   "execution_count": null,
   "metadata": {},
   "outputs": [],
   "source": [
    "Linv = solve(diag(eigens_A$val))\n",
    "Linv\n",
    "Q = eigens_A$vec\n",
    "Q\n",
    "Qinv = solve(Q)\n",
    "Qinv"
   ]
  },
  {
   "cell_type": "markdown",
   "metadata": {},
   "source": [
    "So:\n",
    "\n",
    "$$A^{-1}=\\begin{bmatrix}-0.4472136 & -0.70710678 \\\\-0.89442719 & 0.70710678 \\end{bmatrix}\\cdot\\begin{bmatrix}0.2 & 0\\\\0 & -1\\end{bmatrix}\\cdot\\begin{bmatrix}-0.74535599 & 0.47140452\\\\-0.94280904 & -0.74535599\\end{bmatrix}$$\n",
    "\n",
    "Let's calculate that with R:"
   ]
  },
  {
   "cell_type": "code",
   "execution_count": null,
   "metadata": {},
   "outputs": [],
   "source": [
    "Ainv = Q %*% Linv %*% Qinv\n",
    "Ainv"
   ]
  },
  {
   "cell_type": "markdown",
   "metadata": {},
   "source": [
    "That gives us the result:\n",
    "\n",
    "$$A^{-1}=\\begin{bmatrix}-0.6 & 0.4\\\\0.8 & -0.2\\end{bmatrix}$$\n",
    "\n",
    "We can apply the **solve** function directly to **Ainv** to verify this:"
   ]
  },
  {
   "cell_type": "code",
   "execution_count": null,
   "metadata": {},
   "outputs": [],
   "source": [
    "solve(Ainv)"
   ]
  },
  {
   "cell_type": "markdown",
   "metadata": {},
   "source": [
    "Which is the original matrix A. \n",
    "\n",
    "You can also use R verify that:\n",
    "\n",
    "$$A^{-1}A = I \\\\\n",
    "A A^{-1} = I$$"
   ]
  },
  {
   "cell_type": "code",
   "execution_count": null,
   "metadata": {},
   "outputs": [],
   "source": [
    "Ainv %*% A\n",
    "A %*% Ainv"
   ]
  }
 ],
 "metadata": {
  "kernelspec": {
   "display_name": "R",
   "language": "R",
   "name": "ir"
  },
  "language_info": {
   "codemirror_mode": "r",
   "file_extension": ".r",
   "mimetype": "text/x-r-source",
   "name": "R",
   "pygments_lexer": "r",
   "version": "3.5.0"
  }
 },
 "nbformat": 4,
 "nbformat_minor": 2
}
