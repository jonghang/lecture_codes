{
 "cells": [
  {
   "cell_type": "markdown",
   "metadata": {},
   "source": [
    "# Rate of Change\n",
    "Functions are often visualized as a line on a graph, and this line shows how the value returned by the function changes based on changes in the input value.\n",
    "\n",
    "## Linear Rate of Change\n",
    "\n",
    "For example, imagine a function that returns the number of meters traveled by a cyclist based on the number of seconds that the cyclist has been cycling.\n",
    "\n",
    "Here is such a function:\n",
    "\n",
    "\\begin{equation}q(x) = 2x + 1\\end{equation}\n",
    "\n",
    "We can plot the output for this function for a period of 10 seconds like this:"
   ]
  },
  {
   "cell_type": "code",
   "execution_count": null,
   "metadata": {},
   "outputs": [],
   "source": [
    "q = function(x){2*x + 1}\n",
    "   \n",
    "## Construct the data frame.\n",
    "df = data.frame(x = seq(0,10))\n",
    "df$y = q(df$x) ## Call g(x) with the vector df2$x\n",
    "\n",
    "## Make the plot\n",
    "library(ggplot2)\n",
    "library(repr)\n",
    "options(repr.plot.width=4, repr.plot.height=3)\n",
    "ggplot(df, aes(x,y)) + geom_line(color = 'green', size = 1) +\n",
    "       scale_x_continuous(breaks = seq(0,10)) +\n",
    "       scale_y_continuous(breaks = seq(0,22, by = 2)) +\n",
    "       xlab('Seconds') + ylab('Meters')"
   ]
  },
  {
   "cell_type": "markdown",
   "metadata": {},
   "source": [
    "It's clear from the graph that ***q*** is a *linear* function that describes a slope in which distance increases at a constant rate over time. In other words, the cyclist is traveling at a constant speed.\n",
    "\n",
    "But what speed?\n",
    "\n",
    "Speed, or more technically, velocity is a measure of change - it measures how the distance traveled changes over time (which is why we typically express it as a unit of distance per a unit of time, like *miles-per-hour* or *meters-per-second*). So we're looking for a way to measure the change in the line created by the function.\n",
    "\n",
    "The change in values along the line define its *slope*, which we know from a previous lesson is represented like this:\n",
    "\n",
    "\\begin{equation}m = \\frac{\\Delta{y}}{\\Delta{x}} \\end{equation}\n",
    "\n",
    "We can calculate the slope of our function like this:\n",
    "\n",
    "\\begin{equation}m = \\frac{q(x)_{2} - q(x)_{1}}{x_{2} - x_{1}} \\end{equation}\n",
    "\n",
    "So we just need two ordered pairs of ***x*** and ***q(x)*** values from our line to apply this equation.\n",
    "\n",
    "- After 1 second, ***x*** is 1 and ***q***(1) = **3**.\n",
    "- After 10 seconds, ***x*** is 10 and ***q***(10) = 21.\n",
    "\n",
    "So we can measure the rate of change like this:\n",
    "\n",
    "\\begin{equation}m = \\frac{21 - 3}{10 - 1} \\end{equation}\n",
    "\n",
    "This is the same as:\n",
    "\n",
    "\\begin{equation}m = \\frac{18}{9} \\end{equation}\n",
    "\n",
    "Which simplifies to:\n",
    "\n",
    "\\begin{equation}m = \\frac{2}{1} \\end{equation}\n",
    "\n",
    "So our rate of change is <sup>2</sup>/<sub>1</sub> or put another way, the cyclist is traveling at 2 meters-per-second."
   ]
  },
  {
   "cell_type": "markdown",
   "metadata": {},
   "source": [
    "## Average Rate of Change\n",
    "OK, let's look at another function that calculates distance traveled for a given number of seconds:\n",
    "\n",
    "\\begin{equation}r(x) = x^{2} + x\\end{equation}\n",
    "\n",
    "Let's take a look at that using R and the ggplot2 package:"
   ]
  },
  {
   "cell_type": "code",
   "execution_count": null,
   "metadata": {},
   "outputs": [],
   "source": [
    "r = function(x){x^2 + x}\n",
    "   \n",
    "## Construct the data frame.\n",
    "df2 = data.frame(x = seq(0,10))\n",
    "df2$y = r(df2$x) ## Call g(x) with the vector df2$x\n",
    "\n",
    "## Make the plot\n",
    "library(ggplot2)\n",
    "library(repr)\n",
    "options(repr.plot.width=4, repr.plot.height=3)\n",
    "ggplot(df2, aes(x,y)) + geom_line(color = 'green', size = 1) +\n",
    "       scale_x_continuous(breaks = seq(0,10)) +\n",
    "       scale_y_continuous(breaks = seq(0,120,20)) +\n",
    "       xlab('Seconds') + ylab('Meters')"
   ]
  },
  {
   "cell_type": "markdown",
   "metadata": {},
   "source": [
    "This time, the function is not linear. It's actually a quadratic function, and the line from 0 seconds to 10 seconds shows an exponential increase; in other words, the cyclist is *accelerating*.\n",
    "\n",
    "Technically, acceleration itself is a measure of change in velocity over time; and velocity, as we've already discussed, is a measure of change in distance over time. So measuring acceleration is pretty complex, and requires *differential calculus*, which we're going to cover shortly. In fact, even just measuring the velocity at a single point in time requires differential calculus; but we can use algebraic methods to calculate an *average* rate of velocity for a given period shown in the graph.\n",
    "\n",
    "First, we need to define a *secant* line that joins two points in our exponential arc to create a straight slope. For example, a secant line for the entire 10 second time span would join the following two points:\n",
    "\n",
    "- 0, ***r***(0)\n",
    "- 10, ***r***(10)\n",
    "\n",
    "Run the following R code to visualize this line:"
   ]
  },
  {
   "cell_type": "code",
   "execution_count": null,
   "metadata": {
    "scrolled": false
   },
   "outputs": [],
   "source": [
    "## Create a data frame with the end points.\n",
    "df3 = df2[c(1,nrow(df2)),]\n",
    "\n",
    "## Make the plot\n",
    "library(ggplot2)\n",
    "library(repr)\n",
    "options(repr.plot.width=4, repr.plot.height=3)\n",
    "ggplot(df2, aes(x,y)) + geom_line(color = 'green', size = 1) +\n",
    "       geom_line(data = df3, aes(x,y), color = 'magenta', size = 1)\n",
    "       scale_x_continuous(breaks = seq(0,10)) +\n",
    "       scale_y_continuous(breaks = seq(0,120,20)) +\n",
    "       xlab('Seconds') + ylab('Meters')"
   ]
  },
  {
   "cell_type": "markdown",
   "metadata": {},
   "source": [
    "Now, because the secant line is straight, we can apply the slope formula we used for a linear function to calculate the average velocity for the 10 second period:\n",
    "\n",
    "- At 0 seconds, ***x*** is 0 and ***r***(0) = **0**.\n",
    "- At 10 seconds, ***x*** is 10 and ***r***(10) = 110.\n",
    "\n",
    "So we can measure the rate of change like this:\n",
    "\n",
    "\\begin{equation}m = \\frac{110 - 0}{10 - 0} \\end{equation}\n",
    "\n",
    "This is the same as:\n",
    "\n",
    "\\begin{equation}m = \\frac{110}{10} \\end{equation}\n",
    "\n",
    "Which simplifies to:\n",
    "\n",
    "\\begin{equation}m = \\frac{11}{1} \\end{equation}\n",
    "\n",
    "So our rate of change is <sup>11</sup>/<sub>1</sub> or put another way, the cyclist is traveling at an average velocity of 11 meters-per-second over the 10-second period.\n",
    "\n",
    "Of course, we can measure the average velocity between any two points on the exponential line. Use the following R code to show the secant line for the period between 2 and 7 seconds, and calculate the average velocity for that period"
   ]
  },
  {
   "cell_type": "code",
   "execution_count": null,
   "metadata": {},
   "outputs": [],
   "source": [
    "## Create a data frame with the end points.\n",
    "df4 = data.frame(x = c(2,7))\n",
    "df4$y = r(df4$x)\n",
    "\n",
    "## Make the plot\n",
    "library(ggplot2)\n",
    "library(repr)\n",
    "options(repr.plot.width=4, repr.plot.height=3)\n",
    "ggplot(df2, aes(x,y)) + geom_line(color = 'green', size = 1) +\n",
    "       geom_line(data = df4, aes(x,y), color = 'magenta', size = 1) +\n",
    "       scale_x_continuous(breaks = seq(0,10)) +\n",
    "       scale_y_continuous(breaks = seq(0,120,20)) +\n",
    "       xlab('Seconds') + ylab('Meters')"
   ]
  }
 ],
 "metadata": {
  "kernelspec": {
   "display_name": "R",
   "language": "R",
   "name": "ir"
  },
  "language_info": {
   "codemirror_mode": "r",
   "file_extension": ".r",
   "mimetype": "text/x-r-source",
   "name": "R",
   "pygments_lexer": "r",
   "version": "3.5.0"
  }
 },
 "nbformat": 4,
 "nbformat_minor": 2
}
